{
 "cells": [
  {
   "cell_type": "code",
   "execution_count": 8,
   "metadata": {},
   "outputs": [
    {
     "name": "stdout",
     "output_type": "stream",
     "text": [
      "Requirement already satisfied: openai-whisper in ./speech_ludo_env/lib/python3.10/site-packages (20240930)\n",
      "Requirement already satisfied: numpy in ./speech_ludo_env/lib/python3.10/site-packages (from openai-whisper) (2.0.0)\n",
      "Requirement already satisfied: numba in ./speech_ludo_env/lib/python3.10/site-packages (from openai-whisper) (0.60.0)\n",
      "Requirement already satisfied: tiktoken in ./speech_ludo_env/lib/python3.10/site-packages (from openai-whisper) (0.8.0)\n",
      "Requirement already satisfied: torch in ./speech_ludo_env/lib/python3.10/site-packages (from openai-whisper) (2.5.1)\n",
      "Requirement already satisfied: triton>=2.0.0 in ./speech_ludo_env/lib/python3.10/site-packages (from openai-whisper) (3.1.0)\n",
      "Requirement already satisfied: more-itertools in ./speech_ludo_env/lib/python3.10/site-packages (from openai-whisper) (10.5.0)\n",
      "Requirement already satisfied: tqdm in ./speech_ludo_env/lib/python3.10/site-packages (from openai-whisper) (4.67.0)\n",
      "Requirement already satisfied: filelock in ./speech_ludo_env/lib/python3.10/site-packages (from triton>=2.0.0->openai-whisper) (3.16.1)\n",
      "Requirement already satisfied: llvmlite<0.44,>=0.43.0dev0 in ./speech_ludo_env/lib/python3.10/site-packages (from numba->openai-whisper) (0.43.0)\n",
      "Requirement already satisfied: requests>=2.26.0 in ./speech_ludo_env/lib/python3.10/site-packages (from tiktoken->openai-whisper) (2.32.3)\n",
      "Requirement already satisfied: regex>=2022.1.18 in ./speech_ludo_env/lib/python3.10/site-packages (from tiktoken->openai-whisper) (2024.11.6)\n",
      "Requirement already satisfied: typing-extensions>=4.8.0 in ./speech_ludo_env/lib/python3.10/site-packages (from torch->openai-whisper) (4.12.2)\n",
      "Requirement already satisfied: nvidia-cufft-cu12==11.2.1.3 in ./speech_ludo_env/lib/python3.10/site-packages (from torch->openai-whisper) (11.2.1.3)\n",
      "Requirement already satisfied: nvidia-curand-cu12==10.3.5.147 in ./speech_ludo_env/lib/python3.10/site-packages (from torch->openai-whisper) (10.3.5.147)\n",
      "Requirement already satisfied: nvidia-nvtx-cu12==12.4.127 in ./speech_ludo_env/lib/python3.10/site-packages (from torch->openai-whisper) (12.4.127)\n",
      "Requirement already satisfied: nvidia-cuda-runtime-cu12==12.4.127 in ./speech_ludo_env/lib/python3.10/site-packages (from torch->openai-whisper) (12.4.127)\n",
      "Requirement already satisfied: nvidia-cusolver-cu12==11.6.1.9 in ./speech_ludo_env/lib/python3.10/site-packages (from torch->openai-whisper) (11.6.1.9)\n",
      "Requirement already satisfied: sympy==1.13.1 in ./speech_ludo_env/lib/python3.10/site-packages (from torch->openai-whisper) (1.13.1)\n",
      "Requirement already satisfied: nvidia-cudnn-cu12==9.1.0.70 in ./speech_ludo_env/lib/python3.10/site-packages (from torch->openai-whisper) (9.1.0.70)\n",
      "Requirement already satisfied: nvidia-cusparse-cu12==12.3.1.170 in ./speech_ludo_env/lib/python3.10/site-packages (from torch->openai-whisper) (12.3.1.170)\n",
      "Requirement already satisfied: nvidia-nccl-cu12==2.21.5 in ./speech_ludo_env/lib/python3.10/site-packages (from torch->openai-whisper) (2.21.5)\n",
      "Requirement already satisfied: jinja2 in ./speech_ludo_env/lib/python3.10/site-packages (from torch->openai-whisper) (3.1.4)\n",
      "Requirement already satisfied: nvidia-cuda-nvrtc-cu12==12.4.127 in ./speech_ludo_env/lib/python3.10/site-packages (from torch->openai-whisper) (12.4.127)\n",
      "Requirement already satisfied: nvidia-cuda-cupti-cu12==12.4.127 in ./speech_ludo_env/lib/python3.10/site-packages (from torch->openai-whisper) (12.4.127)\n",
      "Requirement already satisfied: nvidia-cublas-cu12==12.4.5.8 in ./speech_ludo_env/lib/python3.10/site-packages (from torch->openai-whisper) (12.4.5.8)\n",
      "Requirement already satisfied: nvidia-nvjitlink-cu12==12.4.127 in ./speech_ludo_env/lib/python3.10/site-packages (from torch->openai-whisper) (12.4.127)\n",
      "Requirement already satisfied: networkx in ./speech_ludo_env/lib/python3.10/site-packages (from torch->openai-whisper) (3.4.2)\n",
      "Requirement already satisfied: fsspec in ./speech_ludo_env/lib/python3.10/site-packages (from torch->openai-whisper) (2024.10.0)\n",
      "Requirement already satisfied: mpmath<1.4,>=1.1.0 in ./speech_ludo_env/lib/python3.10/site-packages (from sympy==1.13.1->torch->openai-whisper) (1.3.0)\n",
      "Requirement already satisfied: idna<4,>=2.5 in ./speech_ludo_env/lib/python3.10/site-packages (from requests>=2.26.0->tiktoken->openai-whisper) (3.10)\n",
      "Requirement already satisfied: certifi>=2017.4.17 in ./speech_ludo_env/lib/python3.10/site-packages (from requests>=2.26.0->tiktoken->openai-whisper) (2024.8.30)\n",
      "Requirement already satisfied: urllib3<3,>=1.21.1 in ./speech_ludo_env/lib/python3.10/site-packages (from requests>=2.26.0->tiktoken->openai-whisper) (2.2.3)\n",
      "Requirement already satisfied: charset-normalizer<4,>=2 in ./speech_ludo_env/lib/python3.10/site-packages (from requests>=2.26.0->tiktoken->openai-whisper) (3.4.0)\n",
      "Requirement already satisfied: MarkupSafe>=2.0 in ./speech_ludo_env/lib/python3.10/site-packages (from jinja2->torch->openai-whisper) (3.0.2)\n",
      "[sudo] password for fm-pc-lt-233: \n",
      "[sudo] password for fm-pc-lt-233: "
     ]
    }
   ],
   "source": [
    "!pip3 install openai-whisper\n",
    "!sudo apt update\n",
    "!sudo apt install ffmpeg\n"
   ]
  },
  {
   "cell_type": "code",
   "execution_count": 1,
   "metadata": {},
   "outputs": [],
   "source": [
    "import librosa"
   ]
  },
  {
   "cell_type": "code",
   "execution_count": 4,
   "metadata": {},
   "outputs": [
    {
     "name": "stdout",
     "output_type": "stream",
     "text": [
      "[ 0.0062072   0.01065193  0.01074872 ... -0.01102871 -0.01002751\n",
      " -0.01152094]\n"
     ]
    }
   ],
   "source": [
    "def run_sound(path_of_wav_file):\n",
    "    signal, sample_rate = librosa.load(path_of_wav_file, sr=16000)  \n",
    "    print(signal)\n",
    "\n",
    "run_sound('authenticated_speaker_1.wav')"
   ]
  },
  {
   "cell_type": "code",
   "execution_count": 2,
   "metadata": {},
   "outputs": [
    {
     "name": "stderr",
     "output_type": "stream",
     "text": [
      "/home/fm-pc-lt-233/Personal_Projects/Speech_Ludo_Project/speech_ludo_env/lib/python3.10/site-packages/whisper/__init__.py:150: FutureWarning: You are using `torch.load` with `weights_only=False` (the current default value), which uses the default pickle module implicitly. It is possible to construct malicious pickle data which will execute arbitrary code during unpickling (See https://github.com/pytorch/pytorch/blob/main/SECURITY.md#untrusted-models for more details). In a future release, the default value for `weights_only` will be flipped to `True`. This limits the functions that could be executed during unpickling. Arbitrary objects will no longer be allowed to be loaded via this mode unless they are explicitly allowlisted by the user via `torch.serialization.add_safe_globals`. We recommend you start setting `weights_only=True` for any use case where you don't have full control of the loaded file. Please open an issue on GitHub for any issues related to this experimental feature.\n",
      "  checkpoint = torch.load(fp, map_location=device)\n"
     ]
    },
    {
     "name": "stdout",
     "output_type": "stream",
     "text": [
      "* 1,2,3*\n"
     ]
    }
   ],
   "source": [
    "import whisper\n",
    "\n",
    "# Load the Whisper model (use 'base', 'small', 'medium', or 'large' for varying accuracy)\n",
    "model = whisper.load_model(\"small\")  # \"base\" is lightweight, \"large\" is more accurate but slower\n",
    "\n",
    "def transcribe_and_italicize(audio_path):\n",
    "    \"\"\"\n",
    "    Transcribes speech to text and returns an italicized English transcription.\n",
    "    \"\"\"\n",
    "    # Transcribe the audio\n",
    "    result = model.transcribe(audio_path, task=\"translate\")  # Translates to English\n",
    "    transcription = result[\"text\"]\n",
    "\n",
    "    # Return the italicized version of the transcription\n",
    "    return f\"*{transcription}*\"\n",
    "\n",
    "# Example usage\n",
    "italicized_text = transcribe_and_italicize(\"authenticated_speaker_test.wav\")\n",
    "print(italicized_text)\n"
   ]
  },
  {
   "cell_type": "code",
   "execution_count": 33,
   "metadata": {},
   "outputs": [
    {
     "name": "stderr",
     "output_type": "stream",
     "text": [
      "/home/fm-pc-lt-233/Personal_Projects/Speech_Ludo_Project/speech_ludo_env/lib/python3.10/site-packages/whisper/__init__.py:150: FutureWarning: You are using `torch.load` with `weights_only=False` (the current default value), which uses the default pickle module implicitly. It is possible to construct malicious pickle data which will execute arbitrary code during unpickling (See https://github.com/pytorch/pytorch/blob/main/SECURITY.md#untrusted-models for more details). In a future release, the default value for `weights_only` will be flipped to `True`. This limits the functions that could be executed during unpickling. Arbitrary objects will no longer be allowed to be loaded via this mode unless they are explicitly allowlisted by the user via `torch.serialization.add_safe_globals`. We recommend you start setting `weights_only=True` for any use case where you don't have full control of the loaded file. Please open an issue on GitHub for any issues related to this experimental feature.\n",
      "  checkpoint = torch.load(fp, map_location=device)\n"
     ]
    },
    {
     "name": "stdout",
     "output_type": "stream",
     "text": [
      "en 0.7685175538063049\n",
      "Transcription: * Six.*\n",
      "Detected Language: en (Confidence: 0.77)\n"
     ]
    }
   ],
   "source": [
    "import whisper\n",
    "\n",
    "# Load the Whisper model\n",
    "model = whisper.load_model(\"small\")\n",
    "\n",
    "def detect_language(audio_path):\n",
    "    \"\"\"\n",
    "    Detects the language of the audio file using Whisper's detect_language method.\n",
    "    Returns the language code ('en' for English, 'ne' for Nepali) and confidence.\n",
    "    \"\"\"\n",
    "    audio = whisper.load_audio(audio_path)\n",
    "    audio = whisper.pad_or_trim(audio)\n",
    "    mel = whisper.log_mel_spectrogram(audio).to(model.device)\n",
    "\n",
    "    # Use Whisper's language detection\n",
    "    _, probs = model.detect_language(mel)\n",
    "    detected_language = max(probs, key=probs.get)\n",
    "    confidence = probs[detected_language]\n",
    "    return detected_language, confidence\n",
    "\n",
    "def transcribe_and_italicize(audio_path):\n",
    "    \"\"\"\n",
    "    Transcribes speech to text and returns an italicized English transcription.\n",
    "    Focuses only on English and Nepali languages.\n",
    "    \"\"\"\n",
    "    # Detect the language\n",
    "    language, confidence = detect_language(audio_path)\n",
    "    print(language,confidence)\n",
    "    # Ensure only English ('en') or Nepali ('ne') is processed\n",
    "    if language not in [\"en\", \"ne\",\"hi\"]:\n",
    "        raise ValueError(f\"Unsupported language detected: {language}\")\n",
    "\n",
    "    # Transcribe the audio with language constraint\n",
    "    result = model.transcribe(audio_path, language=language,task='translate')\n",
    "    transcription = result[\"text\"]\n",
    "\n",
    "    # Return the italicized version of the transcription\n",
    "    return f\"*{transcription}*\", language, confidence\n",
    "\n",
    "# Example usage\n",
    "audio_path = \"authenticated_speaker_test.wav\"\n",
    "try:\n",
    "    italicized_text, lang, conf = transcribe_and_italicize(audio_path)\n",
    "    print(f\"Transcription: {italicized_text}\")\n",
    "    print(f\"Detected Language: {lang} (Confidence: {conf:.2f})\")\n",
    "except ValueError as e:\n",
    "    print(e)\n"
   ]
  },
  {
   "cell_type": "code",
   "execution_count": null,
   "metadata": {},
   "outputs": [],
   "source": []
  }
 ],
 "metadata": {
  "language_info": {
   "name": "python"
  }
 },
 "nbformat": 4,
 "nbformat_minor": 2
}
